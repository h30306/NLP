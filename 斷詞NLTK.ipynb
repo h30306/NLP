{
 "cells": [
  {
   "cell_type": "code",
   "execution_count": 1,
   "metadata": {},
   "outputs": [],
   "source": [
    "import nltk\n",
    "import jieba\n",
    "from stanfordcorenlp import StanfordCoreNLP"
   ]
  },
  {
   "cell_type": "code",
   "execution_count": 2,
   "metadata": {},
   "outputs": [],
   "source": [
    "sentence = open('english.txt', 'r',encoding='utf-8').read()"
   ]
  },
  {
   "cell_type": "code",
   "execution_count": 3,
   "metadata": {},
   "outputs": [
    {
     "ename": "AccessDenied",
     "evalue": "psutil.AccessDenied (pid=11280)",
     "output_type": "error",
     "traceback": [
      "\u001b[0;31m---------------------------------------------------------------------------\u001b[0m",
      "\u001b[0;31mPermissionError\u001b[0m                           Traceback (most recent call last)",
      "\u001b[0;32m/anaconda3/lib/python3.6/site-packages/psutil/_psosx.py\u001b[0m in \u001b[0;36mwrapper\u001b[0;34m(self, *args, **kwargs)\u001b[0m\n\u001b[1;32m    294\u001b[0m         \u001b[0;32mtry\u001b[0m\u001b[0;34m:\u001b[0m\u001b[0;34m\u001b[0m\u001b[0m\n\u001b[0;32m--> 295\u001b[0;31m             \u001b[0;32mreturn\u001b[0m \u001b[0mfun\u001b[0m\u001b[0;34m(\u001b[0m\u001b[0mself\u001b[0m\u001b[0;34m,\u001b[0m \u001b[0;34m*\u001b[0m\u001b[0margs\u001b[0m\u001b[0;34m,\u001b[0m \u001b[0;34m**\u001b[0m\u001b[0mkwargs\u001b[0m\u001b[0;34m)\u001b[0m\u001b[0;34m\u001b[0m\u001b[0m\n\u001b[0m\u001b[1;32m    296\u001b[0m         \u001b[0;32mexcept\u001b[0m \u001b[0mOSError\u001b[0m \u001b[0;32mas\u001b[0m \u001b[0merr\u001b[0m\u001b[0;34m:\u001b[0m\u001b[0;34m\u001b[0m\u001b[0m\n",
      "\u001b[0;32m/anaconda3/lib/python3.6/site-packages/psutil/_psosx.py\u001b[0m in \u001b[0;36mconnections\u001b[0;34m(self, kind)\u001b[0m\n\u001b[1;32m    479\u001b[0m         \u001b[0;32mwith\u001b[0m \u001b[0mcatch_zombie\u001b[0m\u001b[0;34m(\u001b[0m\u001b[0mself\u001b[0m\u001b[0;34m)\u001b[0m\u001b[0;34m:\u001b[0m\u001b[0;34m\u001b[0m\u001b[0m\n\u001b[0;32m--> 480\u001b[0;31m             \u001b[0mrawlist\u001b[0m \u001b[0;34m=\u001b[0m \u001b[0mcext\u001b[0m\u001b[0;34m.\u001b[0m\u001b[0mproc_connections\u001b[0m\u001b[0;34m(\u001b[0m\u001b[0mself\u001b[0m\u001b[0;34m.\u001b[0m\u001b[0mpid\u001b[0m\u001b[0;34m,\u001b[0m \u001b[0mfamilies\u001b[0m\u001b[0;34m,\u001b[0m \u001b[0mtypes\u001b[0m\u001b[0;34m)\u001b[0m\u001b[0;34m\u001b[0m\u001b[0m\n\u001b[0m\u001b[1;32m    481\u001b[0m         \u001b[0mret\u001b[0m \u001b[0;34m=\u001b[0m \u001b[0;34m[\u001b[0m\u001b[0;34m]\u001b[0m\u001b[0;34m\u001b[0m\u001b[0m\n",
      "\u001b[0;31mPermissionError\u001b[0m: [Errno 1] Operation not permitted",
      "\nDuring handling of the above exception, another exception occurred:\n",
      "\u001b[0;31mAccessDenied\u001b[0m                              Traceback (most recent call last)",
      "\u001b[0;32m<ipython-input-3-3b6a18b0a418>\u001b[0m in \u001b[0;36m<module>\u001b[0;34m()\u001b[0m\n\u001b[1;32m      1\u001b[0m NLPAnnotator = StanfordCoreNLP(path_or_host='stanford-corenlp-full-2018-02-27',\n\u001b[1;32m      2\u001b[0m                               \u001b[0mlang\u001b[0m\u001b[0;34m=\u001b[0m\u001b[0;34m'en'\u001b[0m\u001b[0;34m,\u001b[0m\u001b[0;34m\u001b[0m\u001b[0m\n\u001b[0;32m----> 3\u001b[0;31m                               memory='2g')\n\u001b[0m",
      "\u001b[0;32m/anaconda3/lib/python3.6/site-packages/stanfordcorenlp/corenlp.py\u001b[0m in \u001b[0;36m__init__\u001b[0;34m(self, path_or_host, port, memory, lang, timeout, quiet, logging_level)\u001b[0m\n\u001b[1;32m     77\u001b[0m             \u001b[0;32mif\u001b[0m \u001b[0mself\u001b[0m\u001b[0;34m.\u001b[0m\u001b[0mport\u001b[0m \u001b[0;32mis\u001b[0m \u001b[0;32mNone\u001b[0m\u001b[0;34m:\u001b[0m\u001b[0;34m\u001b[0m\u001b[0m\n\u001b[1;32m     78\u001b[0m                 \u001b[0;32mfor\u001b[0m \u001b[0mport_candidate\u001b[0m \u001b[0;32min\u001b[0m \u001b[0mrange\u001b[0m\u001b[0;34m(\u001b[0m\u001b[0;36m9000\u001b[0m\u001b[0;34m,\u001b[0m \u001b[0;36m65535\u001b[0m\u001b[0;34m)\u001b[0m\u001b[0;34m:\u001b[0m\u001b[0;34m\u001b[0m\u001b[0m\n\u001b[0;32m---> 79\u001b[0;31m                     \u001b[0;32mif\u001b[0m \u001b[0mport_candidate\u001b[0m \u001b[0;32mnot\u001b[0m \u001b[0;32min\u001b[0m \u001b[0;34m[\u001b[0m\u001b[0mconn\u001b[0m\u001b[0;34m.\u001b[0m\u001b[0mladdr\u001b[0m\u001b[0;34m[\u001b[0m\u001b[0;36m1\u001b[0m\u001b[0;34m]\u001b[0m \u001b[0;32mfor\u001b[0m \u001b[0mconn\u001b[0m \u001b[0;32min\u001b[0m \u001b[0mpsutil\u001b[0m\u001b[0;34m.\u001b[0m\u001b[0mnet_connections\u001b[0m\u001b[0;34m(\u001b[0m\u001b[0;34m)\u001b[0m\u001b[0;34m]\u001b[0m\u001b[0;34m:\u001b[0m\u001b[0;34m\u001b[0m\u001b[0m\n\u001b[0m\u001b[1;32m     80\u001b[0m                         \u001b[0mself\u001b[0m\u001b[0;34m.\u001b[0m\u001b[0mport\u001b[0m \u001b[0;34m=\u001b[0m \u001b[0mport_candidate\u001b[0m\u001b[0;34m\u001b[0m\u001b[0m\n\u001b[1;32m     81\u001b[0m                         \u001b[0;32mbreak\u001b[0m\u001b[0;34m\u001b[0m\u001b[0m\n",
      "\u001b[0;32m/anaconda3/lib/python3.6/site-packages/psutil/__init__.py\u001b[0m in \u001b[0;36mnet_connections\u001b[0;34m(kind)\u001b[0m\n\u001b[1;32m   2189\u001b[0m     \u001b[0mOn\u001b[0m \u001b[0mOSX\u001b[0m \u001b[0mthis\u001b[0m \u001b[0mfunction\u001b[0m \u001b[0mrequires\u001b[0m \u001b[0mroot\u001b[0m \u001b[0mprivileges\u001b[0m\u001b[0;34m.\u001b[0m\u001b[0;34m\u001b[0m\u001b[0m\n\u001b[1;32m   2190\u001b[0m     \"\"\"\n\u001b[0;32m-> 2191\u001b[0;31m     \u001b[0;32mreturn\u001b[0m \u001b[0m_psplatform\u001b[0m\u001b[0;34m.\u001b[0m\u001b[0mnet_connections\u001b[0m\u001b[0;34m(\u001b[0m\u001b[0mkind\u001b[0m\u001b[0;34m)\u001b[0m\u001b[0;34m\u001b[0m\u001b[0m\n\u001b[0m\u001b[1;32m   2192\u001b[0m \u001b[0;34m\u001b[0m\u001b[0m\n\u001b[1;32m   2193\u001b[0m \u001b[0;34m\u001b[0m\u001b[0m\n",
      "\u001b[0;32m/anaconda3/lib/python3.6/site-packages/psutil/_psosx.py\u001b[0m in \u001b[0;36mnet_connections\u001b[0;34m(kind)\u001b[0m\n\u001b[1;32m    227\u001b[0m     \u001b[0;32mfor\u001b[0m \u001b[0mpid\u001b[0m \u001b[0;32min\u001b[0m \u001b[0mpids\u001b[0m\u001b[0;34m(\u001b[0m\u001b[0;34m)\u001b[0m\u001b[0;34m:\u001b[0m\u001b[0;34m\u001b[0m\u001b[0m\n\u001b[1;32m    228\u001b[0m         \u001b[0;32mtry\u001b[0m\u001b[0;34m:\u001b[0m\u001b[0;34m\u001b[0m\u001b[0m\n\u001b[0;32m--> 229\u001b[0;31m             \u001b[0mcons\u001b[0m \u001b[0;34m=\u001b[0m \u001b[0mProcess\u001b[0m\u001b[0;34m(\u001b[0m\u001b[0mpid\u001b[0m\u001b[0;34m)\u001b[0m\u001b[0;34m.\u001b[0m\u001b[0mconnections\u001b[0m\u001b[0;34m(\u001b[0m\u001b[0mkind\u001b[0m\u001b[0;34m)\u001b[0m\u001b[0;34m\u001b[0m\u001b[0m\n\u001b[0m\u001b[1;32m    230\u001b[0m         \u001b[0;32mexcept\u001b[0m \u001b[0mNoSuchProcess\u001b[0m\u001b[0;34m:\u001b[0m\u001b[0;34m\u001b[0m\u001b[0m\n\u001b[1;32m    231\u001b[0m             \u001b[0;32mcontinue\u001b[0m\u001b[0;34m\u001b[0m\u001b[0m\n",
      "\u001b[0;32m/anaconda3/lib/python3.6/site-packages/psutil/_psosx.py\u001b[0m in \u001b[0;36mwrapper\u001b[0;34m(self, *args, **kwargs)\u001b[0m\n\u001b[1;32m    298\u001b[0m                 \u001b[0;32mraise\u001b[0m \u001b[0mNoSuchProcess\u001b[0m\u001b[0;34m(\u001b[0m\u001b[0mself\u001b[0m\u001b[0;34m.\u001b[0m\u001b[0mpid\u001b[0m\u001b[0;34m,\u001b[0m \u001b[0mself\u001b[0m\u001b[0;34m.\u001b[0m\u001b[0m_name\u001b[0m\u001b[0;34m)\u001b[0m\u001b[0;34m\u001b[0m\u001b[0m\n\u001b[1;32m    299\u001b[0m             \u001b[0;32mif\u001b[0m \u001b[0merr\u001b[0m\u001b[0;34m.\u001b[0m\u001b[0merrno\u001b[0m \u001b[0;32min\u001b[0m \u001b[0;34m(\u001b[0m\u001b[0merrno\u001b[0m\u001b[0;34m.\u001b[0m\u001b[0mEPERM\u001b[0m\u001b[0;34m,\u001b[0m \u001b[0merrno\u001b[0m\u001b[0;34m.\u001b[0m\u001b[0mEACCES\u001b[0m\u001b[0;34m)\u001b[0m\u001b[0;34m:\u001b[0m\u001b[0;34m\u001b[0m\u001b[0m\n\u001b[0;32m--> 300\u001b[0;31m                 \u001b[0;32mraise\u001b[0m \u001b[0mAccessDenied\u001b[0m\u001b[0;34m(\u001b[0m\u001b[0mself\u001b[0m\u001b[0;34m.\u001b[0m\u001b[0mpid\u001b[0m\u001b[0;34m,\u001b[0m \u001b[0mself\u001b[0m\u001b[0;34m.\u001b[0m\u001b[0m_name\u001b[0m\u001b[0;34m)\u001b[0m\u001b[0;34m\u001b[0m\u001b[0m\n\u001b[0m\u001b[1;32m    301\u001b[0m             \u001b[0;32mraise\u001b[0m\u001b[0;34m\u001b[0m\u001b[0m\n\u001b[1;32m    302\u001b[0m     \u001b[0;32mreturn\u001b[0m \u001b[0mwrapper\u001b[0m\u001b[0;34m\u001b[0m\u001b[0m\n",
      "\u001b[0;31mAccessDenied\u001b[0m: psutil.AccessDenied (pid=11280)"
     ]
    }
   ],
   "source": [
    "NLPAnnotator = StanfordCoreNLP(path_or_host='stanford-corenlp-full-2018-02-27',\n",
    "                              lang='en',\n",
    "                              memory='2g')"
   ]
  },
  {
   "cell_type": "code",
   "execution_count": 4,
   "metadata": {},
   "outputs": [
    {
     "name": "stdout",
     "output_type": "stream",
     "text": [
      "Tokenize ['Soochow', 'University', 'has', 'been', 'constructing', 'solid', 'foundation', 'of', '“', 'data', 'analysis', '”', 'since', 'the', 'past', 'few', 'years', ',', 'and', 'the', 'establishment', 'of', 'School', 'of', 'Big', 'Data', 'Management', 'will', 'absolutely', 'create', 'the', 'most', 'general', 'benefit', 'through', 'integrating', 'energy', 'and', 'precious', 'practical', 'experience', 'of', 'SCU', '.']\n"
     ]
    }
   ],
   "source": [
    "print('Tokenize',NLPAnnotator.word_tokenize(sentence))"
   ]
  },
  {
   "cell_type": "code",
   "execution_count": 5,
   "metadata": {
    "collapsed": true
   },
   "outputs": [],
   "source": [
    "sentence1 = open('chinese.txt', 'r',encoding='utf-8').read()"
   ]
  },
  {
   "cell_type": "code",
   "execution_count": 11,
   "metadata": {},
   "outputs": [],
   "source": [
    "NLPAnnotator1 = StanfordCoreNLP(path_or_host='stanford-corenlp-full-2018-02-27',\n",
    "                              lang='zh',\n",
    "                              memory='2g')"
   ]
  },
  {
   "cell_type": "code",
   "execution_count": 7,
   "metadata": {},
   "outputs": [
    {
     "name": "stdout",
     "output_type": "stream",
     "text": [
      "Tokenize ['陳良基', '致詞', '指出', '，', '近', '10', '年', '來新入', '學', '博士生', '人', '數大幅', '減少', '，', '技術類', '博士生', '總數', '10', '年', '內', '下降', '33%', '，', '其中', '高科技', '類型', '資', '通訊', '博士生', '更是', '下降', '45%', '，', '幾乎減半', '。']\n"
     ]
    }
   ],
   "source": [
    "print('Tokenize',NLPAnnotator1.word_tokenize(sentence1))"
   ]
  },
  {
   "cell_type": "code",
   "execution_count": 8,
   "metadata": {
    "collapsed": true
   },
   "outputs": [],
   "source": [
    "sentence2 = open('chinese.txt', 'r', encoding='utf-8').read()"
   ]
  },
  {
   "cell_type": "code",
   "execution_count": 9,
   "metadata": {},
   "outputs": [
    {
     "data": {
      "text/plain": [
       "str"
      ]
     },
     "execution_count": 9,
     "metadata": {},
     "output_type": "execute_result"
    }
   ],
   "source": [
    "type(sentence2)"
   ]
  },
  {
   "cell_type": "code",
   "execution_count": 10,
   "metadata": {},
   "outputs": [
    {
     "name": "stderr",
     "output_type": "stream",
     "text": [
      "Building prefix dict from the default dictionary ...\n",
      "DEBUG:jieba:Building prefix dict from the default dictionary ...\n",
      "Dumping model to file cache /tmp/jieba.cache\n",
      "DEBUG:jieba:Dumping model to file cache /tmp/jieba.cache\n",
      "Loading model cost 0.920 seconds.\n",
      "DEBUG:jieba:Loading model cost 0.920 seconds.\n",
      "Prefix dict has been built succesfully.\n",
      "DEBUG:jieba:Prefix dict has been built succesfully.\n"
     ]
    },
    {
     "name": "stdout",
     "output_type": "stream",
     "text": [
      "['陳', '良基致', '詞', '指出', '，', '近', '10', '年來', '新入學', '博士生', '人數', '大幅', '減少', '，', '技術類', '博士生', '總數', '10', '年', '內', '下降', '33%', '，', '其中', '高科技', '類型', '資通訊', '博士生', '更是', '下降', '45%', '，', '幾乎', '減半', '。']\n"
     ]
    }
   ],
   "source": [
    "print(list(jieba.cut(sentence2)))"
   ]
  },
  {
   "cell_type": "code",
   "execution_count": 12,
   "metadata": {},
   "outputs": [
    {
     "ename": "FileNotFoundError",
     "evalue": "[Errno 2] No such file or directory: 'userdict.txt'",
     "output_type": "error",
     "traceback": [
      "\u001b[0;31m---------------------------------------------------------------------------\u001b[0m",
      "\u001b[0;31mFileNotFoundError\u001b[0m                         Traceback (most recent call last)",
      "\u001b[0;32m<ipython-input-12-4bd6d7afa604>\u001b[0m in \u001b[0;36m<module>\u001b[0;34m()\u001b[0m\n\u001b[0;32m----> 1\u001b[0;31m \u001b[0mjieba\u001b[0m\u001b[0;34m.\u001b[0m\u001b[0mload_userdict\u001b[0m\u001b[0;34m(\u001b[0m\u001b[0;34m\"userdict.txt\"\u001b[0m\u001b[0;34m)\u001b[0m\u001b[0;34m\u001b[0m\u001b[0m\n\u001b[0m",
      "\u001b[0;32m/anaconda3/lib/python3.6/site-packages/jieba/__init__.py\u001b[0m in \u001b[0;36mload_userdict\u001b[0;34m(self, f)\u001b[0m\n\u001b[1;32m    372\u001b[0m         \u001b[0;32mif\u001b[0m \u001b[0misinstance\u001b[0m\u001b[0;34m(\u001b[0m\u001b[0mf\u001b[0m\u001b[0;34m,\u001b[0m \u001b[0mstring_types\u001b[0m\u001b[0;34m)\u001b[0m\u001b[0;34m:\u001b[0m\u001b[0;34m\u001b[0m\u001b[0m\n\u001b[1;32m    373\u001b[0m             \u001b[0mf_name\u001b[0m \u001b[0;34m=\u001b[0m \u001b[0mf\u001b[0m\u001b[0;34m\u001b[0m\u001b[0m\n\u001b[0;32m--> 374\u001b[0;31m             \u001b[0mf\u001b[0m \u001b[0;34m=\u001b[0m \u001b[0mopen\u001b[0m\u001b[0;34m(\u001b[0m\u001b[0mf\u001b[0m\u001b[0;34m,\u001b[0m \u001b[0;34m'rb'\u001b[0m\u001b[0;34m)\u001b[0m\u001b[0;34m\u001b[0m\u001b[0m\n\u001b[0m\u001b[1;32m    375\u001b[0m         \u001b[0;32melse\u001b[0m\u001b[0;34m:\u001b[0m\u001b[0;34m\u001b[0m\u001b[0m\n\u001b[1;32m    376\u001b[0m             \u001b[0mf_name\u001b[0m \u001b[0;34m=\u001b[0m \u001b[0mresolve_filename\u001b[0m\u001b[0;34m(\u001b[0m\u001b[0mf\u001b[0m\u001b[0;34m)\u001b[0m\u001b[0;34m\u001b[0m\u001b[0m\n",
      "\u001b[0;31mFileNotFoundError\u001b[0m: [Errno 2] No such file or directory: 'userdict.txt'"
     ]
    }
   ],
   "source": [
    "jieba.load_userdict(\"userdict.txt\")"
   ]
  },
  {
   "cell_type": "code",
   "execution_count": 13,
   "metadata": {},
   "outputs": [
    {
     "name": "stdout",
     "output_type": "stream",
     "text": [
      "Part of speech [('Soochow', 'NR'), ('University', 'NN'), ('has', 'AD'), ('been', 'VV'), ('constructing', 'JJ'), ('solid', 'NN'), ('foundation', 'NN'), ('of', 'P'), ('“', 'PU'), ('data', 'NN'), ('analysis', 'NN'), ('”', 'PU'), ('since', 'NN'), ('the', 'DT'), ('past', 'NN'), ('few', 'AD'), ('years', 'VV'), (',', 'PU'), ('and', 'CC'), ('the', 'DT'), ('establishment', 'NN'), ('of', 'P'), ('School', 'NN'), ('of', 'P'), ('Big', 'JJ'), ('Data', 'NR'), ('Management', 'JJ'), ('will', 'NN'), ('absolutely', 'AD'), ('create', 'VV'), ('the', 'DT'), ('most', 'NN'), ('general', 'JJ'), ('benefit', 'NN'), ('through', 'NN'), ('integrating', 'JJ'), ('energy', 'NN'), ('and', 'CC'), ('precious', 'NN'), ('practical', 'NN'), ('experience', 'NN'), ('of', 'P'), ('SCU', 'NR'), ('.', 'PU')]\n"
     ]
    }
   ],
   "source": [
    "sentence2 = open('english.txt','r',encoding='utf-8').read()\n",
    "NLPAnnotator2 = StanfordCoreNLP(path_or_host='stanford-corenlp-full-2018-02-27',\n",
    "                              lang='zh',\n",
    "                              memory='2g')\n",
    "print('Part of speech',NLPAnnotator2.pos_tag(sentence2))"
   ]
  },
  {
   "cell_type": "code",
   "execution_count": 14,
   "metadata": {},
   "outputs": [
    {
     "name": "stdout",
     "output_type": "stream",
     "text": [
      "Part of speech [('陳良基', 'NR'), ('致詞', 'VV'), ('指出', 'VV'), ('，', 'PU'), ('近', 'AD'), ('10', 'CD'), ('年', 'M'), ('來新入', 'NN'), ('學', 'VV'), ('博士生', 'NN'), ('人', 'NN'), ('數大幅', 'AD'), ('減少', 'VV'), ('，', 'PU'), ('技術類', 'NN'), ('博士生', 'NN'), ('總數', 'VV'), ('10', 'CD'), ('年', 'M'), ('內', 'NN'), ('下降', 'VV'), ('33%', 'CD'), ('，', 'PU'), ('其中', 'NN'), ('高科技', 'NN'), ('類型', 'NN'), ('資', 'VV'), ('通訊', 'VV'), ('博士生', 'NN'), ('更是', 'AD'), ('下降', 'VV'), ('45%', 'CD'), ('，', 'PU'), ('幾乎減半', 'VV'), ('。', 'PU')]\n"
     ]
    }
   ],
   "source": [
    "sentence3 = open('chinese.txt','r',encoding='utf-8').read()\n",
    "NLPAnnotator3 = StanfordCoreNLP(path_or_host='stanford-corenlp-full-2018-02-27',\n",
    "                              lang='zh',\n",
    "                              memory='2g')\n",
    "print('Part of speech',NLPAnnotator3.pos_tag(sentence3))"
   ]
  },
  {
   "cell_type": "code",
   "execution_count": 1,
   "metadata": {},
   "outputs": [
    {
     "name": "stderr",
     "output_type": "stream",
     "text": [
      "Building prefix dict from the default dictionary ...\n",
      "Loading model from cache /tmp/jieba.cache\n",
      "Loading model cost 0.700 seconds.\n",
      "Prefix dict has been built succesfully.\n"
     ]
    },
    {
     "name": "stdout",
     "output_type": "stream",
     "text": [
      "[pair('陳良基', 'nr'), pair('致', 'v'), pair('詞', 'n'), pair('指出', 'v'), pair('，', 'x'), pair('近', 't'), pair('10', 'm'), pair('年來', 't'), pair('新入', 'v'), pair('學', 'n'), pair('博士生', 'nr'), pair('人數', 'n'), pair('大幅', 'd'), pair('減少', 'v'), pair('，', 'x'), pair('技術', 'n'), pair('類', 'q'), pair('博士生', 'nr'), pair('總數', 'n'), pair('10', 'm'), pair('年', 'm'), pair('內', 'f'), pair('下降', 'v'), pair('33', 'm'), pair('%', 'x'), pair('，', 'x'), pair('其中', 'r'), pair('高科技', 'nz'), pair('類型', 'n'), pair('資通訊', 'n'), pair('博士生', 'nr'), pair('更是', 'd'), pair('下降', 'v'), pair('45', 'm'), pair('%', 'x'), pair('，', 'x'), pair('幾乎', 'd'), pair('減半', 'v'), pair('。', 'x')]\n"
     ]
    }
   ],
   "source": [
    "import jieba.posseg as pseg\n",
    "sentence4 = open('chinese.txt','r',encoding = 'utf-8').read()\n",
    "print(list(pseg.cut(sentence4)))"
   ]
  },
  {
   "cell_type": "code",
   "execution_count": 3,
   "metadata": {},
   "outputs": [
    {
     "name": "stdout",
     "output_type": "stream",
     "text": [
      "[pair('本院', 'n'), pair('的', 'uj'), pair('課程', 'n'), pair('規劃', 'n'), pair('強調', 'v'), pair('學生', 'n'), pair('「', 'x'), pair('資料', 'n'), pair('分析', 'vn'), pair('」', 'x'), pair('、', 'x'), pair('「', 'x'), pair('資訊', 'n'), pair('科技', 'n'), pair('工具', 'n'), pair('運用', 'vn'), pair('」', 'x'), pair('及', 'c'), pair('「', 'x'), pair('巨量', 'n'), pair('資料', 'n'), pair('應用', 'v'), pair('」', 'x'), pair('三', 'm'), pair('大方向', 'n'), pair('。', 'x'), pair('課程', 'n'), pair('設計', 'vn'), pair('首先', 'd'), pair('包括', 'v'), pair('資料', 'n'), pair('科學', 'n'), pair('與', 'p'), pair('巨量', 'n'), pair('資料', 'n'), pair('課程', 'n'), pair('，', 'x'), pair('強調', 'v'), pair('學生', 'n'), pair('如何', 'r'), pair('運用', 'vn'), pair('資料', 'n'), pair('分析方法', 'n'), pair('，', 'x'), pair('轉換', 'v'), pair('為', 'p'), pair('情報', 'n'), pair('以', 'p'), pair('預測', 'vn'), pair('未來', 't'), pair('環境', 'n'), pair('；', 'x'), pair('二', 'm'), pair('為', 'p'), pair('資訊', 'n'), pair('科技', 'n'), pair('運用', 'vn'), pair('相關', 'v'), pair('課程', 'n'), pair('，', 'x'), pair('主要', 'b'), pair('讓', 'v'), pair('學生', 'n'), pair('透過', 'v'), pair('資訊', 'n'), pair('科技', 'n'), pair('工具', 'n'), pair('的', 'uj'), pair('操作', 'v'), pair('與', 'p'), pair('運用', 'vn'), pair('，', 'x'), pair('如', 'c'), pair('SAS', 'eng'), pair('、', 'x'), pair('R', 'eng'), pair('等', 'u'), pair('統計', 'vn'), pair('軟體', 'n'), pair('運用', 'vn'), pair('，', 'x'), pair('提升', 'v'), pair('分析', 'vn'), pair('資料', 'n'), pair('的', 'uj'), pair('技巧', 'n'), pair('並', 'c'), pair('學習', 'v'), pair('資料', 'n'), pair('視', 'vg'), pair('覺化', 'v'), pair('的', 'uj'), pair('能力', 'n'), pair('；', 'x'), pair('三', 'm'), pair('為', 'p'), pair('專業', 'n'), pair('領域', 'n'), pair('選修', 'v'), pair('課程', 'n'), pair('，', 'x'), pair('透過', 'v'), pair('自然科', 'l'), pair('學', 'v'), pair('領域', 'n'), pair('、', 'x'), pair('人文', 'n'), pair('社會科學', 'nt'), pair('領域', 'n'), pair('及', 'c'), pair('商管', 'n'), pair('領域', 'n'), pair('擇', 'v'), pair('一', 'm'), pair('的', 'uj'), pair('專業', 'n'), pair('選修', 'v'), pair('課程', 'n'), pair('，', 'x'), pair('以及', 'c'), pair('進行', 'v'), pair('專', 'd'), pair('題', 'v'), pair('製', 'zg'), pair('作', 'v'), pair('，', 'x'), pair('提供', 'v'), pair('學生', 'n'), pair('專業', 'n'), pair('領域', 'n'), pair('的', 'uj'), pair('學習', 'v'), pair('應用', 'v'), pair('經驗', 'vn'), pair('。', 'x'), pair('\\n', 'x')]\n"
     ]
    }
   ],
   "source": [
    "sentence5 = open('exam_zh.txt','r',encoding = 'utf-8').read()\n",
    "print(list(pseg.cut(sentence5)))"
   ]
  },
  {
   "cell_type": "code",
   "execution_count": null,
   "metadata": {
    "collapsed": true
   },
   "outputs": [],
   "source": []
  }
 ],
 "metadata": {
  "kernelspec": {
   "display_name": "Python 3",
   "language": "python",
   "name": "python3"
  },
  "language_info": {
   "codemirror_mode": {
    "name": "ipython",
    "version": 3
   },
   "file_extension": ".py",
   "mimetype": "text/x-python",
   "name": "python",
   "nbconvert_exporter": "python",
   "pygments_lexer": "ipython3",
   "version": "3.6.7"
  }
 },
 "nbformat": 4,
 "nbformat_minor": 2
}
